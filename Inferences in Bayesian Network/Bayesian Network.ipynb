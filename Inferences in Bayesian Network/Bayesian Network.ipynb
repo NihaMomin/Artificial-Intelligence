{
 "cells": [
  {
   "cell_type": "markdown",
   "metadata": {},
   "source": [
    "### Node"
   ]
  },
  {
   "cell_type": "code",
   "execution_count": 1,
   "metadata": {},
   "outputs": [],
   "source": [
    "import math\n",
    "class Node():\n",
    "    def __init__(self, data):\n",
    "        self.label = data[0]\n",
    "        self.parent=data[1] #maintains the label of parent node\n",
    "        self.parentNode=None #maintains the actual parent node\n",
    "        self.children=[]\n",
    "        self.posTrue=0 #posterior probability \n",
    "        self.posFalse=0\n",
    "        self.updated=False #to maintain whether the node was visited\n",
    "        self.evidence=False #for evidence\n",
    "        self.pTrue=float(data[2]) #prior probability\n",
    "        self.margTrue=float(data[2]) #marginal probability\n",
    "        if self.parent=='null':\n",
    "            self.pFalse=self.margFalse=1-self.pTrue\n",
    "\n",
    "        else:\n",
    "            self.pFalse=float(data[3])\n",
    "            self.margFalse=float(data[3])\n",
    "    \n",
    "    def getLabel(self):\n",
    "        return self.label\n",
    "\n",
    "    def getParent(self):\n",
    "        return self.parent\n",
    "    \n",
    "    def addChild(self,data):\n",
    "        self.children.append(data)\n",
    "            \n",
    "    def calculateMarginal(self):\n",
    "        if self.parent!='null':\n",
    "            self.margTrue=round(self.pTrue*(self.parentNode.margTrue)+self.pFalse*(self.parentNode.margFalse),2)\n",
    "            self.margFalse=round(1-self.margTrue,2)\n",
    "        return (self.label,self.margTrue,self.margFalse)\n",
    "    \n",
    "   #calculates posterior of children\n",
    "    def calculatePosterior(self):\n",
    "        for i in self.children:\n",
    "            if i.evidence!=True: \n",
    "                if i.updated!=True:\n",
    "                    i.posTrue = self.posFalse * i.pFalse + self.posTrue * i.pTrue \n",
    "                    i.posFalse = 1 - i.posTrue\n",
    "                    if (len(i.children) != 0):\n",
    "                        i.calculatePosterior()\n",
    "        return \n",
    "\n",
    "    def getParentNode(self):\n",
    "        return self.parentNode\n",
    "    \n",
    "    def setParentNode(self,node):\n",
    "        self.parentNode=node\n",
    "    #finds posterior of children\n",
    "    def findPosterior(self):\n",
    "        lst = lst1=[]\n",
    "        for i in self.children:\n",
    "            if (len(i.children)!=0):\n",
    "                lst1 = i.findPosterior()\n",
    "            lst.append((i.label, round(i.posTrue,3),round(1-i.posTrue,3)))\n",
    "            lst.extend(lst1) \n",
    "            i.updated=False\n",
    "        cleanlist = []\n",
    "        [cleanlist.append(x) for x in lst if x not in cleanlist]\n",
    "        return cleanlist\n"
   ]
  },
  {
   "cell_type": "markdown",
   "metadata": {},
   "source": [
    "### Network"
   ]
  },
  {
   "cell_type": "code",
   "execution_count": 2,
   "metadata": {},
   "outputs": [],
   "source": [
    "class Network():\n",
    "    def __init__(self,file):\n",
    "            lst=[]\n",
    "            self.nodes=[]\n",
    "            self.root=None\n",
    "            self.totalNodes=0\n",
    "            \n",
    "            #reading file\n",
    "            file=open(file,'r')\n",
    "            for line in file:\n",
    "                data=line.split(',')\n",
    "                data=[i.rstrip() for i in data]\n",
    "                lst.append(data)\n",
    "            lst.pop(0)\n",
    "            totalNodes=len(lst)\n",
    "            file.close()\n",
    "            for i in lst:\n",
    "                if i[1]=='null':\n",
    "                    self.root=Node(i)\n",
    "                    self.nodes.append(self.root)\n",
    "                else:\n",
    "                    self.nodes.append(Node(i))\n",
    "                    \n",
    "            #to add children nodes and parent node\n",
    "            for i in self.nodes:\n",
    "                if i.getParent()!='null':\n",
    "                    for j in range(len(self.nodes)):\n",
    "                        if self.nodes[j].getLabel()==i.getParent():\n",
    "                            self.nodes[j].addChild(i)\n",
    "                            i.setParentNode(self.nodes[j])\n",
    "                            \n",
    "    def getNodeList(self):\n",
    "        return self.nodes\n"
   ]
  },
  {
   "cell_type": "markdown",
   "metadata": {},
   "source": [
    "### Part (a)"
   ]
  },
  {
   "cell_type": "code",
   "execution_count": 3,
   "metadata": {},
   "outputs": [
    {
     "name": "stdout",
     "output_type": "stream",
     "text": [
      "ABCD"
     ]
    }
   ],
   "source": [
    "#part a\n",
    "net=Network(\"Data.txt\")\n",
    "lst=net.getNodeList()\n",
    "for i in lst:\n",
    "    print(i.getLabel(),end='')\n",
    "\n"
   ]
  },
  {
   "cell_type": "markdown",
   "metadata": {},
   "source": [
    "### Part (b)"
   ]
  },
  {
   "cell_type": "code",
   "execution_count": 4,
   "metadata": {
    "scrolled": false
   },
   "outputs": [
    {
     "name": "stdout",
     "output_type": "stream",
     "text": [
      "['Node A: True 0.6 False 0.4', 'Node B: True 0.44 False 0.56', 'Node C: True 0.52 False 0.48', 'Node D: True 0.61 False 0.39']\n"
     ]
    }
   ],
   "source": [
    "#part b\n",
    "def printMarginal(net):\n",
    "    lst=net.getNodeList()\n",
    "    marginal=[]\n",
    "    for i in lst:\n",
    "        s=i.calculateMarginal()\n",
    "        string='Node '+s[0]+': '+'True '+str(s[1])+' False '+str(s[2])\n",
    "        marginal.append(string)\n",
    "    print (marginal)\n",
    "printMarginal(net)\n"
   ]
  },
  {
   "cell_type": "markdown",
   "metadata": {},
   "source": [
    "### Part (c)"
   ]
  },
  {
   "cell_type": "code",
   "execution_count": 5,
   "metadata": {},
   "outputs": [
    {
     "name": "stdout",
     "output_type": "stream",
     "text": [
      "Node A: posterior true->0.766 posterior false->0.234\n",
      "Node B: posterior true->0.507 posterior false->0.493\n",
      "Node C: posterior true->0.767 posterior false->0.233\n",
      "Node D: posterior true->1 posterior false->0\n"
     ]
    }
   ],
   "source": [
    "#part c\n",
    "\n",
    "def makeInference(net,label):\n",
    "    lst=net.getNodeList()\n",
    "    temp=None\n",
    "    for i in lst:\n",
    "        if i.getLabel()==label:\n",
    "            temp=i\n",
    "    temp.evidence=True\n",
    "    temp.posFalse=0\n",
    "    temp.posTrue=1\n",
    "    temp.calculatePosterior()\n",
    "    if(temp.parent!=\"null\"):\n",
    "        traverse(net,temp)\n",
    "    lst=net.root.findPosterior()\n",
    "    lst.append((net.root.label,round(net.root.posTrue,3),round(1-net.root.posTrue,3)))\n",
    "    net.root.updated=False\n",
    "    return sorted(lst)\n",
    "\n",
    "#traverse function to traverse the parent nodes and the remaining child nodes of the parent\n",
    "def traverse(net,node):\n",
    "    if node.parent!=\"null\":\n",
    "        temp=node\n",
    "        curr=None\n",
    "        \n",
    "        #parent traversal-> to update prosterior probability\n",
    "        parent=node.parentNode\n",
    "        if parent.evidence!=True and parent.updated!=True:\n",
    "            parent.posTrue=((temp.pTrue*temp.posTrue*parent.margTrue)/temp.margTrue)+(\n",
    "                (1-temp.pTrue)*(temp.posFalse*parent.margTrue)/temp.margFalse)\n",
    "            parent.posFalse=1-parent.posTrue\n",
    "            parent.updated=True\n",
    "            lst=net.getNodeList()\n",
    "            for i in lst:\n",
    "                if i.getLabel()==parent.getLabel():\n",
    "                    curr=i\n",
    "            traverse(net,curr)\n",
    "            \n",
    "            #children traversal-> to update prosterior probability\n",
    "            for i in parent.children:\n",
    "                if i.evidence!=True and i.updated!=True:\n",
    "                    i.posTrue=i.pTrue*parent.posTrue+i.pFalse * parent.posFalse\n",
    "                    i.posFalse=1-i.posTrue\n",
    "                    i.calculatePosterior()\n",
    "                    i.updated=True\n",
    "                    traverse(net,i)\n",
    "        return\n",
    "infer=makeInference(net,\"D\")\n",
    "for i in infer:\n",
    "    print('Node '+i[0]+':'+' posterior true->'+str(i[1])+' posterior false->'+str(i[2]))"
   ]
  },
  {
   "cell_type": "code",
   "execution_count": 6,
   "metadata": {},
   "outputs": [
    {
     "name": "stdout",
     "output_type": "stream",
     "text": [
      "[('A', 1, 0), ('B', 0.6, 0.4), ('C', 0.8, 0.2), ('D', 1, 0)]\n"
     ]
    }
   ],
   "source": [
    "# part d\n",
    "print(makeInference(net,\"A\"))\n",
    "\n"
   ]
  },
  {
   "cell_type": "code",
   "execution_count": null,
   "metadata": {},
   "outputs": [],
   "source": []
  }
 ],
 "metadata": {
  "kernelspec": {
   "display_name": "Python 3",
   "language": "python",
   "name": "python3"
  },
  "language_info": {
   "codemirror_mode": {
    "name": "ipython",
    "version": 3
   },
   "file_extension": ".py",
   "mimetype": "text/x-python",
   "name": "python",
   "nbconvert_exporter": "python",
   "pygments_lexer": "ipython3",
   "version": "3.6.4"
  }
 },
 "nbformat": 4,
 "nbformat_minor": 2
}
