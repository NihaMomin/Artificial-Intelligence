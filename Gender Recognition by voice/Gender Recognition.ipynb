{
 "cells": [
  {
   "cell_type": "code",
   "execution_count": 1,
   "metadata": {},
   "outputs": [],
   "source": [
    "import pandas as pd\n",
    "\n",
    "#importing libraries for different classifiers\n",
    "from sklearn.ensemble import RandomForestClassifier\n",
    "from sklearn.metrics import accuracy_score, precision_score, f1_score, recall_score\n",
    "from sklearn.linear_model import LogisticRegression\n",
    "from sklearn.ensemble import AdaBoostClassifier, GradientBoostingClassifier\n",
    "from sklearn.model_selection import train_test_split\n",
    "from sklearn.tree import DecisionTreeClassifier\n",
    "from sklearn.naive_bayes import GaussianNB\n",
    "from sklearn.discriminant_analysis import LinearDiscriminantAnalysis\n",
    "from sklearn.discriminant_analysis import QuadraticDiscriminantAnalysis\n",
    "from sklearn.neighbors import KNeighborsClassifier\n",
    "from sklearn.svm import SVC, NuSVC\n",
    "\n"
   ]
  },
  {
   "cell_type": "code",
   "execution_count": 2,
   "metadata": {},
   "outputs": [
    {
     "name": "stdout",
     "output_type": "stream",
     "text": [
      "<class 'pandas.core.frame.DataFrame'>\n",
      "RangeIndex: 3168 entries, 0 to 3167\n",
      "Data columns (total 21 columns):\n",
      "meanfreq    3168 non-null float64\n",
      "sd          3168 non-null float64\n",
      "median      3168 non-null float64\n",
      "Q25         3168 non-null float64\n",
      "Q75         3168 non-null float64\n",
      "IQR         3168 non-null float64\n",
      "skew        3168 non-null float64\n",
      "kurt        3168 non-null float64\n",
      "sp.ent      3168 non-null float64\n",
      "sfm         3168 non-null float64\n",
      "mode        3168 non-null float64\n",
      "centroid    3168 non-null float64\n",
      "meanfun     3168 non-null float64\n",
      "minfun      3168 non-null float64\n",
      "maxfun      3168 non-null float64\n",
      "meandom     3168 non-null float64\n",
      "mindom      3168 non-null float64\n",
      "maxdom      3168 non-null float64\n",
      "dfrange     3168 non-null float64\n",
      "modindx     3168 non-null float64\n",
      "label       3168 non-null object\n",
      "dtypes: float64(20), object(1)\n",
      "memory usage: 507.4+ KB\n"
     ]
    }
   ],
   "source": [
    "#loading Data\n",
    "voiceDataSet = pd.read_csv(\"voice.csv\", encoding=\"utf-8\")\n",
    "voiceDataSet.info()"
   ]
  },
  {
   "cell_type": "code",
   "execution_count": 3,
   "metadata": {},
   "outputs": [
    {
     "data": {
      "text/plain": [
       "array([0, 0, 0, ..., 1, 1, 1], dtype=int64)"
      ]
     },
     "execution_count": 3,
     "metadata": {},
     "output_type": "execute_result"
    }
   ],
   "source": [
    "#converting label column from object to float/integer\n",
    "voiceDataSet.label=[1 if each ==\"female\" else 0 for each in voiceDataSet.label]\n",
    "voiceDataSet.label.values"
   ]
  },
  {
   "cell_type": "code",
   "execution_count": 8,
   "metadata": {},
   "outputs": [
    {
     "name": "stdout",
     "output_type": "stream",
     "text": [
      "On KNeighborsClassifier Accuracy is:  70.13669821240799 %\n",
      "On KNeighborsClassifier Precision is:  68.58407079646017 %\n",
      "On KNeighborsClassifier Recall is:  68.58407079646017 %\n",
      "On KNeighborsClassifier F_Measure is:  68.58407079646017 %\n"
     ]
    },
    {
     "name": "stderr",
     "output_type": "stream",
     "text": [
      "f:\\softwares\\python\\lib\\site-packages\\sklearn\\svm\\base.py:196: FutureWarning: The default value of gamma will change from 'auto' to 'scale' in version 0.22 to account better for unscaled features. Set gamma explicitly to 'auto' or 'scale' to avoid this warning.\n",
      "  \"avoid this warning.\", FutureWarning)\n"
     ]
    },
    {
     "name": "stdout",
     "output_type": "stream",
     "text": [
      "On SVC Accuracy is:  61.51419558359621 %\n",
      "On SVC Precision is:  78.76106194690266 %\n",
      "On SVC Recall is:  56.86900958466453 %\n",
      "On SVC F_Measure is:  66.04823747680891 %\n"
     ]
    },
    {
     "name": "stderr",
     "output_type": "stream",
     "text": [
      "f:\\softwares\\python\\lib\\site-packages\\sklearn\\svm\\base.py:196: FutureWarning: The default value of gamma will change from 'auto' to 'scale' in version 0.22 to account better for unscaled features. Set gamma explicitly to 'auto' or 'scale' to avoid this warning.\n",
      "  \"avoid this warning.\", FutureWarning)\n"
     ]
    },
    {
     "name": "stdout",
     "output_type": "stream",
     "text": [
      "On NuSVC Accuracy is:  83.59621451104101 %\n",
      "On NuSVC Precision is:  80.97345132743364 %\n",
      "On NuSVC Recall is:  83.94495412844036 %\n",
      "On NuSVC F_Measure is:  82.43243243243244 %\n",
      "On LogisticRegression Accuracy is:  90.22082018927445 %\n",
      "On LogisticRegression Precision is:  84.2920353982301 %\n",
      "On LogisticRegression Recall is:  94.54094292803971 %\n",
      "On LogisticRegression F_Measure is:  89.12280701754386 %\n",
      "On DecisionTreeClassifier Accuracy is:  96.21451104100946 %\n",
      "On DecisionTreeClassifier Precision is:  96.68141592920354 %\n",
      "On DecisionTreeClassifier Recall is:  95.41484716157204 %\n",
      "On DecisionTreeClassifier F_Measure is:  96.04395604395603 %\n"
     ]
    },
    {
     "name": "stderr",
     "output_type": "stream",
     "text": [
      "f:\\softwares\\python\\lib\\site-packages\\sklearn\\linear_model\\logistic.py:432: FutureWarning: Default solver will be changed to 'lbfgs' in 0.22. Specify a solver to silence this warning.\n",
      "  FutureWarning)\n",
      "f:\\softwares\\python\\lib\\site-packages\\sklearn\\ensemble\\forest.py:248: FutureWarning: The default value of n_estimators will change from 10 in version 0.20 to 100 in 0.22.\n",
      "  \"10 in version 0.20 to 100 in 0.22.\", FutureWarning)\n"
     ]
    },
    {
     "name": "stdout",
     "output_type": "stream",
     "text": [
      "On RandomForestClassifier Accuracy is:  97.89695057833859 %\n",
      "On RandomForestClassifier Precision is:  97.78761061946902 %\n",
      "On RandomForestClassifier Recall is:  97.78761061946902 %\n",
      "On RandomForestClassifier F_Measure is:  97.78761061946902 %\n",
      "On AdaBoostClassifier Accuracy is:  97.47634069400631 %\n",
      "On AdaBoostClassifier Precision is:  96.68141592920354 %\n",
      "On AdaBoostClassifier Recall is:  97.98206278026906 %\n",
      "On AdaBoostClassifier F_Measure is:  97.32739420935413 %\n",
      "On GradientBoostingClassifier Accuracy is:  97.58149316508938 %\n",
      "On GradientBoostingClassifier Precision is:  98.00884955752213 %\n",
      "On GradientBoostingClassifier Recall is:  96.93654266958424 %\n",
      "On GradientBoostingClassifier F_Measure is:  97.46974697469749 %\n",
      "On GaussianNB Accuracy is:  89.37960042060989 %\n",
      "On GaussianNB Precision is:  88.05309734513274 %\n",
      "On GaussianNB Recall is:  89.43820224719101 %\n",
      "On GaussianNB F_Measure is:  88.74024526198438 %\n",
      "On LinearDiscriminantAnalysis Accuracy is:  96.84542586750788 %\n",
      "On LinearDiscriminantAnalysis Precision is:  95.57522123893806 %\n",
      "On LinearDiscriminantAnalysis Recall is:  97.73755656108597 %\n",
      "On LinearDiscriminantAnalysis F_Measure is:  96.64429530201343 %\n",
      "On QuadraticDiscriminantAnalysis Accuracy is:  69.71608832807571 %\n",
      "On QuadraticDiscriminantAnalysis Precision is:  90.48672566371681 %\n",
      "On QuadraticDiscriminantAnalysis Recall is:  62.53822629969419 %\n",
      "On QuadraticDiscriminantAnalysis F_Measure is:  73.9602169981917 %\n"
     ]
    },
    {
     "name": "stderr",
     "output_type": "stream",
     "text": [
      "f:\\softwares\\python\\lib\\site-packages\\sklearn\\discriminant_analysis.py:388: UserWarning: Variables are collinear.\n",
      "  warnings.warn(\"Variables are collinear.\")\n",
      "f:\\softwares\\python\\lib\\site-packages\\sklearn\\discriminant_analysis.py:686: UserWarning: Variables are collinear\n",
      "  warnings.warn(\"Variables are collinear\")\n"
     ]
    }
   ],
   "source": [
    "\n",
    "#creating Module and factor\n",
    "train = voiceDataSet.drop(\"label\", axis=1)\n",
    "test = voiceDataSet[\"label\"]\n",
    "\n",
    "\n",
    "#columnModuleTest = testData[[\"Pclass\", \"Sex\", \"Age\", \"SibSp\", \"Parch\", \"Fare\", \"Title\", \"Family Size\", \"Child\", \"Mother\"]]\n",
    "\n",
    "#data spliting\n",
    "X_train, X_test, y_train, y_test = train_test_split(\n",
    "     train, test, test_size=0.3, random_state=42)\n",
    "\n",
    "\n",
    "#different classifiers\n",
    "classifiers = [\n",
    "    KNeighborsClassifier(3),\n",
    "    SVC(kernel=\"rbf\", C=0.025, probability=True),\n",
    "    NuSVC(probability=True),\n",
    "    LogisticRegression(),\n",
    "    DecisionTreeClassifier(),\n",
    "    RandomForestClassifier(),\n",
    "    AdaBoostClassifier(),\n",
    "    GradientBoostingClassifier(),\n",
    "    GaussianNB(),\n",
    "    LinearDiscriminantAnalysis(),\n",
    "    QuadraticDiscriminantAnalysis()\n",
    "    ]\n",
    "\n",
    "\n",
    "#result of classifiers in precision, accuracy, recall, fmeasure\n",
    "for clf in classifiers:\n",
    "    clf.fit(X_train, y_train)\n",
    "    Y_pred = clf.predict(X_test)\n",
    "    accuracy = accuracy_score(Y_pred, y_test)\n",
    "    precision = precision_score(Y_pred, y_test)\n",
    "    recall = recall_score(Y_pred, y_test)\n",
    "    f_measure = f1_score(Y_pred, y_test)\n",
    "    print('On',clf.__class__.__name__,'Accuracy is: ',accuracy*100,'%')\n",
    "    print('On',clf.__class__.__name__,'Precision is: ',precision*100,'%')\n",
    "    print('On',clf.__class__.__name__,'Recall is: ',recall*100,'%')\n",
    "    print('On',clf.__class__.__name__,'F_Measure is: ',f_measure*100,'%')\n",
    "    \n"
   ]
  },
  {
   "cell_type": "code",
   "execution_count": null,
   "metadata": {},
   "outputs": [],
   "source": []
  }
 ],
 "metadata": {
  "kernelspec": {
   "display_name": "Python 3",
   "language": "python",
   "name": "python3"
  },
  "language_info": {
   "codemirror_mode": {
    "name": "ipython",
    "version": 3
   },
   "file_extension": ".py",
   "mimetype": "text/x-python",
   "name": "python",
   "nbconvert_exporter": "python",
   "pygments_lexer": "ipython3",
   "version": "3.6.4"
  }
 },
 "nbformat": 4,
 "nbformat_minor": 2
}
