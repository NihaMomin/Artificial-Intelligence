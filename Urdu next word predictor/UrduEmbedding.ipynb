{
 "cells": [
  {
   "cell_type": "code",
   "execution_count": 1,
   "metadata": {},
   "outputs": [],
   "source": [
    "import csv\n",
    "import numpy as np\n",
    "from os import path\n",
    "\n",
    "import matplotlib.pyplot as plt\n",
    "import seaborn as sns\n",
    "%matplotlib notebook\n",
    "\n",
    "from tqdm import tqdm\n",
    "\n",
    "import torch\n",
    "from torch.autograd import Variable\n",
    "import torch.nn as nn\n",
    "import torch.nn.functional as F\n",
    "import torch.optim as optim\n"
   ]
  },
  {
   "cell_type": "code",
   "execution_count": 2,
   "metadata": {},
   "outputs": [],
   "source": [
    "# [id, vocab_limit, min_word_freq, window_size, epochs, batch_size, embedding_dim, learning_rate] \n",
    "hyperparams = dict([(1, ['1', 15000, 5, 5, 1, 50, 100, 0.01]), \n",
    "                   (2, ['2', 20000, 5, 5, 30, 50, 200, 0.01]), \n",
    "                   (3, ['3', 30000, 10, 5, 50, 50, 200, 0.01])])\n",
    "hparam = hyperparams[1]"
   ]
  },
  {
   "cell_type": "code",
   "execution_count": 3,
   "metadata": {},
   "outputs": [
    {
     "name": "stdout",
     "output_type": "stream",
     "text": [
      "Corpus Size: 11448 sentences, 371700 words, 15000 unique words\n"
     ]
    },
    {
     "data": {
      "image/png": "[encoded data removed]",
      "text/plain": [
       "<Figure size 432x288 with 1 Axes>"
      ]
     },
     "metadata": {
      "needs_background": "light"
     },
     "output_type": "display_data"
    }
   ],
   "source": [
    "corpus_file = 'corpus.txt'\n",
    "vocab_limit = hparam[1]\n",
    "\n",
    "def load_corpus(file_name, vocab_limit):\n",
    "    with open(file_name, 'r', encoding='utf-8') as f:\n",
    "        corpus, vocab = [], {}\n",
    "        corpus_size = vocab_size = 0\n",
    "        x, y = [0], [0]\n",
    "        \n",
    "        for line in f:\n",
    "            line = line.strip().split(' ')\n",
    "            for w in line:\n",
    "                if w.strip() != '':\n",
    "                    if w in vocab:\n",
    "                        vocab[w] += 1\n",
    "                    else:\n",
    "                        vocab[w] = 1\n",
    "                        vocab_size += 1\n",
    "            corpus.append(line)\n",
    "            corpus_size += len(line)\n",
    "            x.append(corpus_size)\n",
    "            y.append(vocab_size)\n",
    "            if vocab_size >= vocab_limit:\n",
    "                break\n",
    "        \n",
    "        print('Corpus Size: %d sentences, %d words, %d unique words' % (len(corpus), corpus_size, vocab_size))\n",
    "        plt.plot(x, y)\n",
    "        plt.xlabel('Corpus Size')\n",
    "        plt.ylabel('Unique Words')\n",
    "        plt.show()\n",
    "        return corpus, vocab, corpus_size\n",
    "\n",
    "corpus, vocab, corpus_size = load_corpus(corpus_file, vocab_limit)"
   ]
  },
  {
   "cell_type": "code",
   "execution_count": 4,
   "metadata": {},
   "outputs": [
    {
     "name": "stdout",
     "output_type": "stream",
     "text": [
      "10290\n",
      "505\n",
      "4205\n"
     ]
    }
   ],
   "source": [
    "# Histogram for word frequencies\n",
    "lst=list(vocab.values())\n",
    "lst.sort()\n",
    "\n",
    "#lst with word frequency less than equal to 5\n",
    "x=[i for i in lst if i<=5]\n",
    "print(len(x))\n",
    "\n",
    "#lst with word frequency greater than equal to 100\n",
    "y=[i for i in lst if i>=100]\n",
    "print(len(y))\n",
    "\n",
    "#lst with word frequency greater than equal to 100\n",
    "z=[i for i in lst if i<100 and i>5]\n",
    "print(len(z))"
   ]
  },
  {
   "cell_type": "code",
   "execution_count": 5,
   "metadata": {},
   "outputs": [
    {
     "name": "stdout",
     "output_type": "stream",
     "text": [
      "14495\n"
     ]
    },
    {
     "data": {
      "image/png": "[encoded data removed]",
      "text/plain": [
       "<Figure size 432x288 with 1 Axes>"
      ]
     },
     "metadata": {
      "needs_background": "light"
     },
     "output_type": "display_data"
    }
   ],
   "source": [
    "newLst=[i for i in lst if i<100]\n",
    "print(len(newLst))\n",
    "\n",
    "plt.xlabel('Frequency')\n",
    "plt.ylabel('words with frequency less than 100')\n",
    "plt.title('Histogram showing words of same frequency')\n",
    "plt.hist(newLst,bins=range(0,101,4),edgecolor='black')\n",
    "plt.show()"
   ]
  },
  {
   "cell_type": "code",
   "execution_count": 6,
   "metadata": {},
   "outputs": [
    {
     "name": "stdout",
     "output_type": "stream",
     "text": [
      "Trimmed Vocabulary Size: 5271 words, 348353 frequency total\n"
     ]
    }
   ],
   "source": [
    "min_word_freq = hparam[2]\n",
    "\n",
    "def process_vocab(vocab, min_freq):\n",
    "    wid = 0\n",
    "    word2id = {}\n",
    "    id2word = {}\n",
    "    id2freq = {}\n",
    "    for w, f in vocab.items():\n",
    "        if f < min_freq:\n",
    "            continue    \n",
    "        word2id[w] = wid\n",
    "        id2word[wid] = w\n",
    "        id2freq[wid] = f\n",
    "        wid += 1\n",
    "        \n",
    "    print('Trimmed Vocabulary Size: %d words, %d frequency total' % (len(word2id), sum(id2freq.values())))\n",
    "    return word2id, id2word, id2freq\n",
    "\n",
    "word2id, id2word, id2freq = process_vocab(vocab, min_word_freq)\n"
   ]
  },
  {
   "cell_type": "code",
   "execution_count": 7,
   "metadata": {},
   "outputs": [
    {
     "name": "stdout",
     "output_type": "stream",
     "text": [
      "4766\n"
     ]
    },
    {
     "data": {
      "image/png": "[encoded data removed]",
      "text/plain": [
       "<Figure size 432x288 with 1 Axes>"
      ]
     },
     "metadata": {
      "needs_background": "light"
     },
     "output_type": "display_data"
    }
   ],
   "source": [
    "#Histogram showing words with frequency greater than 5\n",
    "lst1=list(id2freq.values())\n",
    "lst1.sort()\n",
    "#lst=lst[:-200]\n",
    "newLst1=[i for i in lst1 if i<100]\n",
    "print(len(newLst1))\n",
    "plt.xlabel('Frequency')\n",
    "plt.ylabel('words with frequency less than 100')\n",
    "plt.title('Histogram showing words of same frequency')\n",
    "plt.hist(newLst1,bins=range(0,101,4),edgecolor='black')\n",
    "plt.show()"
   ]
  },
  {
   "cell_type": "code",
   "execution_count": 8,
   "metadata": {},
   "outputs": [
    {
     "name": "stdout",
     "output_type": "stream",
     "text": [
      "Trimmed Corpus Size: 348353 words, 11442 sentences\n",
      "Total Number of Pairs: 2850050\n"
     ]
    }
   ],
   "source": [
    "window_size = hparam[3]\n",
    "\n",
    "def process_corpus(corpus, word2id, window_size):\n",
    "    tcorpus = []\n",
    "    tcorpus_size = 0\n",
    "    for sentence in corpus:\n",
    "        s = []\n",
    "        for word in sentence:\n",
    "            if word in word2id:\n",
    "                s.append(word2id[word])\n",
    "        if s != []:\n",
    "            tcorpus_size += len(s)\n",
    "            tcorpus.append(s)\n",
    "    \n",
    "    corpus_pairs = []\n",
    "    for sentence in tcorpus:\n",
    "        for i, u in enumerate(sentence):\n",
    "            for j, v in enumerate(sentence):\n",
    "                if j != i and j >= i - window_size and j < i + window_size:\n",
    "                    corpus_pairs.append((u, v))\n",
    "                \n",
    "    print('Trimmed Corpus Size: %d words, %d sentences' % (tcorpus_size, len(tcorpus)))\n",
    "    print('Total Number of Pairs: %d' % len(corpus_pairs))\n",
    "    return tcorpus, corpus_pairs\n",
    "\n",
    "tcorpus, corpus_pairs = process_corpus(corpus, word2id, window_size)"
   ]
  },
  {
   "cell_type": "code",
   "execution_count": 9,
   "metadata": {},
   "outputs": [],
   "source": [
    "np.random.seed(12345)\n",
    "\n",
    "sample_table = []\n",
    "sample_table_size = 1e8\n",
    "pow_frequency = np.array(list(id2freq.values()))**0.75\n",
    "words_pow = sum(pow_frequency)\n",
    "ratio = pow_frequency / words_pow\n",
    "count = np.round(ratio * sample_table_size)\n",
    "for wid, c in enumerate(count):\n",
    "    sample_table += [wid] * int(c)\n",
    "sample_table = np.array(sample_table)\n",
    "\n",
    "def get_neg_v_neg_sampling(batch, count, sample_table):\n",
    "    neg_v = np.random.choice(sample_table, size=(len(batch), count)).tolist()\n",
    "    return neg_v"
   ]
  },
  {
   "cell_type": "code",
   "execution_count": 10,
   "metadata": {},
   "outputs": [],
   "source": [
    "class SkipGramModel(nn.Module):\n",
    "    def __init__(self, emb_size, emb_dimension):\n",
    "        super().__init__()\n",
    "        self.emb_size = emb_size\n",
    "        self.emb_dimension = emb_dimension\n",
    "        self.u_embeddings = nn.Embedding(emb_size, emb_dimension, sparse=True)\n",
    "        self.v_embeddings = nn.Embedding(emb_size, emb_dimension, sparse=True)\n",
    "        self.init_emb()\n",
    "        \n",
    "    def init_emb(self):\n",
    "        initrange = 0.5 / self.emb_dimension\n",
    "        self.u_embeddings.weight.data.uniform_(-initrange, initrange)\n",
    "        self.v_embeddings.weight.data.uniform_(-0, 0)\n",
    "\n",
    "    def forward(self, pos_u, pos_v, neg_v):\n",
    "        emb_u = self.u_embeddings(pos_u)\n",
    "        emb_v = self.v_embeddings(pos_v)\n",
    "        score = torch.mul(emb_u, emb_v).squeeze()\n",
    "        score = torch.sum(score, dim=1)\n",
    "        score = F.logsigmoid(score)\n",
    "        neg_emb_v = self.v_embeddings(neg_v)\n",
    "        neg_score = torch.bmm(neg_emb_v, emb_u.unsqueeze(2)).squeeze()\n",
    "        neg_score = F.logsigmoid(-1 * neg_score)\n",
    "        return -1 * (torch.sum(score)+torch.sum(neg_score))"
   ]
  },
  {
   "cell_type": "code",
   "execution_count": 11,
   "metadata": {},
   "outputs": [
    {
     "name": "stdout",
     "output_type": "stream",
     "text": [
      "Current Device:  cpu\n",
      "24\n",
      "109.14774322509766\n"
     ]
    }
   ],
   "source": [
    "sg_model_file = 'sgmodel-' + hparam[0] + '.pt'\n",
    "epochs = hparam[4]\n",
    "batch_size = hparam[5]\n",
    "embedding_dim = hparam[6]\n",
    "embedding_size = len(word2id)\n",
    "learning_rate = hparam[7]\n",
    "\n",
    "device = torch.device('cuda:0' if torch.cuda.is_available() else 'cpu')\n",
    "print('Current Device: ', device)\n",
    "\n",
    "sg_model = SkipGramModel(embedding_size, embedding_dim).to(device)\n",
    "optimizer = optim.SGD(sg_model.parameters(), lr=learning_rate)\n",
    "\n",
    "epoch = -1\n",
    "if path.exists(sg_model_file):\n",
    "    checkpoint = torch.load(sg_model_file)\n",
    "    sg_model.load_state_dict(checkpoint['model_state_dict'])\n",
    "    optimizer.load_state_dict(checkpoint['optimizer_state_dict'])\n",
    "    epoch = checkpoint['epoch']\n",
    "    loss = checkpoint['loss']\n",
    "    \n",
    "    print(epoch)\n",
    "    print(loss.item())\n",
    "    \n",
    "    sg_model.train()"
   ]
  },
  {
   "cell_type": "code",
   "execution_count": 15,
   "metadata": {},
   "outputs": [
    {
     "name": "stderr",
     "output_type": "stream",
     "text": [
      "0it [00:00, ?it/s]\n"
     ]
    }
   ],
   "source": [
    "batch_count = len(corpus_pairs) // batch_size\n",
    "progress_bar = tqdm(range(batch_count * (epoch + 1), batch_count * epochs))\n",
    "\n",
    "losses = []\n",
    "for i in progress_bar:\n",
    "    batch_start = (i % batch_count) * batch_size\n",
    "    batch = corpus_pairs[batch_start: batch_start + batch_size]\n",
    "\n",
    "    batch_u = np.array([pair[0] for pair in batch])\n",
    "    batch_v = np.array([pair[1] for pair in batch])\n",
    "    neg_v = np.array(get_neg_v_neg_sampling(batch, 5, sample_table))\n",
    "    \n",
    "    batch_u = torch.from_numpy(batch_u).to(device)\n",
    "    batch_v = torch.from_numpy(batch_v).to(device)\n",
    "    neg_v = torch.from_numpy(neg_v).to(device)\n",
    "        \n",
    "    optimizer.zero_grad()\n",
    "    loss = sg_model.forward(batch_u, batch_v, neg_v)\n",
    "    loss.backward()\n",
    "    optimizer.step()\n",
    "\n",
    "    l = loss.item()\n",
    "    losses.append((i // batch_count, i % batch_count, l))\n",
    "    \n",
    "    if i % 1000 == 0:\n",
    "        progress_bar.set_description(\"Loss: %0.8f, lr: %0.6f\" % \n",
    "                                 (l, optimizer.param_groups[0]['lr']))\n",
    "\n",
    "#     if i * batch_size % 100000 == 0:\n",
    "#         lr = initial_lr * (1.0 - 1.0 * i / total_batch_count)\n",
    "#         for param_group in optimizer.param_groups:\n",
    "#             param_group['lr'] = lr\n",
    "\n",
    "    if (i % batch_count == batch_count - 1):\n",
    "        print(i, i // batch_count)\n",
    "        torch.save({\n",
    "            'epoch': i // batch_count,\n",
    "            'model_state_dict': sg_model.state_dict(),\n",
    "            'optimizer_state_dict': optimizer.state_dict(),\n",
    "            'loss': loss\n",
    "            }, sg_model_file)"
   ]
  },
  {
   "cell_type": "code",
   "execution_count": 16,
   "metadata": {},
   "outputs": [],
   "source": [
    "embedding_file = 'embedding-' + hparam[0] + '.txt'\n",
    "loss_file = 'loss-' + hparam[0] + '.txt'\n",
    "\n",
    "def save_output(model, id2word, embeddding_file, loss_file,losses):\n",
    "    embedding = model.u_embeddings.weight.data.numpy()\n",
    "\n",
    "    with open(embedding_file, 'w', encoding='utf-8') as f:\n",
    "        f.write('%d %d\\n' % (embedding.shape[0], embedding.shape[1]))\n",
    "        for wid, w in id2word.items():\n",
    "            e = embedding[wid]\n",
    "            e = ' '.join(map(lambda x: str(x), e))\n",
    "            f.write('%s %s\\n' % (w, e))\n",
    "\n",
    "    with open(loss_file, 'a+') as f:\n",
    "        for loss in losses:\n",
    "            f.write('%d, %d, %0.2f\\n' % loss)\n",
    "            \n",
    "save_output(sg_model, id2word, embedding_file, loss_file, losses)"
   ]
  },
  {
   "cell_type": "code",
   "execution_count": 17,
   "metadata": {},
   "outputs": [
    {
     "data": {
      "image/png": "[encoded data removed]",
      "text/plain": [
       "<Figure size 432x288 with 1 Axes>"
      ]
     },
     "metadata": {
      "needs_background": "light"
     },
     "output_type": "display_data"
    }
   ],
   "source": [
    "def plot_loss(loss_file):\n",
    "    losses = []\n",
    "    with open(loss_file, 'r') as f:\n",
    "        for line in f:\n",
    "            line = line.split(', ')\n",
    "            losses.append((int(line[0]), int(line[1]), float(line[2])))\n",
    "\n",
    "    y = []\n",
    "    for i in range(losses[-1][0] + 1):\n",
    "        yi = [x[2] for x in losses if x[0] == i]\n",
    "        y.append(sum(yi) / (losses[-1][1] + 1))\n",
    "    plt.plot(y)\n",
    "    plt.show()\n",
    "\n",
    "plot_loss(loss_file)"
   ]
  },
  {
   "cell_type": "code",
   "execution_count": 18,
   "metadata": {},
   "outputs": [],
   "source": [
    "from bidi.algorithm import get_display\n",
    "import arabic_reshaper\n",
    "fontFile = \"Sahel.ttf\"\n",
    "from matplotlib import font_manager, rc\n",
    "font_name = font_manager.FontProperties(fname = fontFile).get_name()    \n",
    "rc('font', family = font_name)"
   ]
  },
  {
   "cell_type": "code",
   "execution_count": 19,
   "metadata": {},
   "outputs": [
    {
     "name": "stderr",
     "output_type": "stream",
     "text": [
      "c:\\program files\\python35\\lib\\site-packages\\matplotlib\\font_manager.py:1241: UserWarning: findfont: Font family ['Sahel'] not found. Falling back to DejaVu Sans.\n",
      "  (prop.get_family(), self.defaultFamily[fontext]))\n"
     ]
    },
    {
     "data": {
      "image/png": "[encoded data removed]",
      "text/plain": [
       "<Figure size 720x720 with 1 Axes>"
      ]
     },
     "metadata": {
      "needs_background": "light"
     },
     "output_type": "display_data"
    }
   ],
   "source": [
    "plt.figure(figsize=(10,10))\n",
    "embedding = sg_model.u_embeddings.weight.data.numpy()\n",
    "indices = np.random.choice(np.arange(len(word2id)), size=100, replace=True)\n",
    "\n",
    "for ind in indices:\n",
    "    word = id2word[ind]\n",
    "    a=word2id[word]\n",
    "    vec = embedding[a]\n",
    "    x, y = vec[0], vec[1]\n",
    "    plt.scatter(x, y)\n",
    "    reshaped_text = arabic_reshaper.reshape(word)\n",
    "    artext = get_display(reshaped_text)\n",
    "    plt.annotate(artext, xy=(x, y), xytext=(5, 2),textcoords='offset points', ha='right', va='bottom')\n",
    "    \n",
    "plt.show()"
   ]
  },
  {
   "cell_type": "code",
   "execution_count": 21,
   "metadata": {},
   "outputs": [
    {
     "name": "stdout",
     "output_type": "stream",
     "text": [
      "Collecting keras\n",
      "  Downloading https://files.pythonhosted.org/packages/5e/10/aa32dad071ce52b5502266b5c659451cfd6ffcbf14e6c8c4f16c0ff5aaab/Keras-2.2.4-py2.py3-none-any.whl (312kB)\n",
      "Collecting keras-applications>=1.0.6 (from keras)\n",
      "  Downloading https://files.pythonhosted.org/packages/3f/c4/2ff40221029f7098d58f8d7fb99b97e8100f3293f9856f0fb5834bef100b/Keras_Applications-1.0.6-py2.py3-none-any.whl (44kB)\n",
      "Collecting pyyaml (from keras)\n",
      "  Downloading https://files.pythonhosted.org/packages/ad/d4/d895fb7ac1b0828151b829a32cefc8a8b58b4499570520b91af20982b880/PyYAML-3.13-cp35-cp35m-win_amd64.whl (205kB)\n",
      "Requirement already satisfied: numpy>=1.9.1 in c:\\program files\\python35\\lib\\site-packages (from keras) (1.15.4)\n",
      "Requirement already satisfied: scipy>=0.14 in c:\\program files\\python35\\lib\\site-packages (from keras) (1.1.0)\n",
      "Requirement already satisfied: six>=1.9.0 in c:\\program files\\python35\\lib\\site-packages (from keras) (1.11.0)\n",
      "Collecting h5py (from keras)\n",
      "  Downloading https://files.pythonhosted.org/packages/d0/2c/4572e2e495341e667c89b490ad18ea71a5f9e9fafca06109a9c7db22848b/h5py-2.8.0-cp35-cp35m-win_amd64.whl (2.3MB)\n",
      "Collecting keras-preprocessing>=1.0.5 (from keras)\n",
      "  Downloading https://files.pythonhosted.org/packages/fc/94/74e0fa783d3fc07e41715973435dd051ca89c550881b3454233c39c73e69/Keras_Preprocessing-1.0.5-py2.py3-none-any.whl\n",
      "Installing collected packages: h5py, keras-applications, pyyaml, keras-preprocessing, keras\n"
     ]
    },
    {
     "name": "stderr",
     "output_type": "stream",
     "text": [
      "Could not install packages due to an EnvironmentError: [WinError 5] Access is denied: 'c:\\\\program files\\\\python35\\\\Lib\\\\site-packages\\\\h5py'\n",
      "Consider using the `--user` option or check the permissions.\n",
      "\n"
     ]
    }
   ],
   "source": [
    "!pip install keras"
   ]
  },
  {
   "cell_type": "code",
   "execution_count": null,
   "metadata": {},
   "outputs": [],
   "source": [
    "from keras.callbacks import LambdaCallback\n",
    "from keras.layers.recurrent import LSTM\n",
    "from keras.layers.embeddings import Embedding\n",
    "from keras.layers import Dense, Activation\n",
    "from keras.models import Sequential\n",
    "from keras.utils.data_utils import get_file"
   ]
  },
  {
   "cell_type": "code",
   "execution_count": null,
   "metadata": {},
   "outputs": [],
   "source": [
    "pretrained_weights = sg_model.u_embeddings.weight\n",
    "print(pretrained_weights.shape)\n",
    "print(pretrained_weights)"
   ]
  },
  {
   "cell_type": "code",
   "execution_count": null,
   "metadata": {},
   "outputs": [],
   "source": [
    "max_sentence_length = max([len(s) for s in tcorpus])\n",
    "print(max_sentence_length)\n",
    "\n",
    "train_x = np.zeros([len(tcorpus), max_sentence_length], dtype=np.int32)\n",
    "train_y = np.zeros([len(tcorpus)], dtype=np.int32)\n",
    "for i, sentence in enumerate(tcorpus):\n",
    "    for t, wid in enumerate(sentence[:-1]):\n",
    "        train_x[i, t] = wid\n",
    "    train_y[i] = sentence[-1]\n",
    "print('train_x shape:', train_x.shape)\n",
    "print('train_y shape:', train_y.shape)\n",
    "print(train_x)"
   ]
  },
  {
   "cell_type": "code",
   "execution_count": null,
   "metadata": {},
   "outputs": [],
   "source": [
    "model = Sequential()\n",
    "model.add(Embedding(input_dim=embedding_size, output_dim=embedding_dim, weights=[pretrained_weights.detach().numpy()]))\n",
    "model.add(LSTM(units=embedding_dim))\n",
    "model.add(Dense(units=embedding_size))\n",
    "model.add(Activation('softmax'))\n",
    "model.compile(optimizer='adam', loss='sparse_categorical_crossentropy')"
   ]
  },
  {
   "cell_type": "code",
   "execution_count": null,
   "metadata": {},
   "outputs": [],
   "source": [
    "def sample(preds, temperature=1.0):\n",
    "    if temperature <= 0:\n",
    "        return np.argmax(preds)\n",
    "    preds = np.asarray(preds).astype('float64')\n",
    "    preds = np.log(preds) / temperature\n",
    "    exp_preds = np.exp(preds)\n",
    "    preds = exp_preds / np.sum(exp_preds)\n",
    "    probas = np.random.multinomial(1, preds, 1)\n",
    "    return np.argmax(probas)\n",
    "\n",
    "def generate_next(text, num_generated=10):\n",
    "    word_idxs = [word2id[word] for word in text.lower().split()]\n",
    "    for i in range(num_generated):\n",
    "        prediction = model.predict(x=np.array(word_idxs))\n",
    "        idx = sample(prediction[-1], temperature=0.7)\n",
    "        word_idxs.append(idx)\n",
    "    return ' '.join(id2word[idx] for idx in word_idxs)\n",
    "\n",
    "def on_epoch_end(epoch, _):\n",
    "    print('\\nGenerating text after epoch: %d' % epoch)\n",
    "    texts = [\n",
    "        'غیر ملکی خبر رساں ایجنسی',\n",
    "        'ہلاک ہونے والوں کی تعداد',\n",
    "    ]\n",
    "    for text in texts:\n",
    "        sample = generate_next(text)\n",
    "        print('%s... -> %s' % (text, sample))\n"
   ]
  },
  {
   "cell_type": "code",
   "execution_count": null,
   "metadata": {},
   "outputs": [],
   "source": [
    "model.fit(train_x, train_y,\n",
    "          batch_size=128,\n",
    "          epochs=20,\n",
    "          callbacks=[LambdaCallback(on_epoch_end=on_epoch_end)])"
   ]
  },
  {
   "cell_type": "code",
   "execution_count": null,
   "metadata": {},
   "outputs": [],
   "source": [
    "while True:\n",
    "  name = input(\"Enter here:\")\n",
    "  #print(name)\n",
    "  print(generate_next(name,1))"
   ]
  },
  {
   "cell_type": "code",
   "execution_count": null,
   "metadata": {},
   "outputs": [],
   "source": []
  },
  {
   "cell_type": "code",
   "execution_count": null,
   "metadata": {},
   "outputs": [],
   "source": []
  },
  {
   "cell_type": "code",
   "execution_count": null,
   "metadata": {},
   "outputs": [],
   "source": []
  }
 ],
 "metadata": {
  "kernelspec": {
   "display_name": "Python 3",
   "language": "python",
   "name": "python3"
  },
  "language_info": {
   "codemirror_mode": {
    "name": "ipython",
    "version": 3
   },
   "file_extension": ".py",
   "mimetype": "text/x-python",
   "name": "python",
   "nbconvert_exporter": "python",
   "pygments_lexer": "ipython3",
   "version": "3.7.1"
  }
 },
 "nbformat": 4,
 "nbformat_minor": 2
}
