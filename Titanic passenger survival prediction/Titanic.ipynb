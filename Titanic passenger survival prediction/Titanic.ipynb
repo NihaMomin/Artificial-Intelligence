{
 "cells": [
  {
   "cell_type": "markdown",
   "metadata": {},
   "source": [
    "#### Packages\n"
   ]
  },
  {
   "cell_type": "code",
   "execution_count": 1,
   "metadata": {},
   "outputs": [],
   "source": [
    "# For data manipulation\n",
    "import pandas as pd\n",
    "import numpy as np\n",
    "import random as rnd\n",
    "import re\n",
    "#For visualization\n",
    "import matplotlib.pyplot as plt\n",
    "import seaborn as sns\n"
   ]
  },
  {
   "cell_type": "markdown",
   "metadata": {},
   "source": [
    "#### Training and Test Sets"
   ]
  },
  {
   "cell_type": "code",
   "execution_count": 2,
   "metadata": {},
   "outputs": [],
   "source": [
    "#loading data\n",
    "trainSet = pd.read_csv('train.csv', header=0, sep=',', quotechar='\"')\n",
    "testSet=  pd.read_csv('test.csv', header=0, sep=',', quotechar='\"')"
   ]
  },
  {
   "cell_type": "code",
   "execution_count": 3,
   "metadata": {},
   "outputs": [],
   "source": [
    "#trainSet.head(10)"
   ]
  },
  {
   "cell_type": "code",
   "execution_count": 4,
   "metadata": {},
   "outputs": [
    {
     "name": "stdout",
     "output_type": "stream",
     "text": [
      "<class 'pandas.core.frame.DataFrame'>\n",
      "RangeIndex: 891 entries, 0 to 890\n",
      "Data columns (total 12 columns):\n",
      "PassengerId    891 non-null int64\n",
      "Survived       891 non-null int64\n",
      "Pclass         891 non-null int64\n",
      "Name           891 non-null object\n",
      "Sex            891 non-null object\n",
      "Age            714 non-null float64\n",
      "SibSp          891 non-null int64\n",
      "Parch          891 non-null int64\n",
      "Ticket         891 non-null object\n",
      "Fare           891 non-null float64\n",
      "Cabin          204 non-null object\n",
      "Embarked       889 non-null object\n",
      "dtypes: float64(2), int64(5), object(5)\n",
      "memory usage: 66.2+ KB\n"
     ]
    }
   ],
   "source": [
    "trainSet.info()"
   ]
  },
  {
   "cell_type": "markdown",
   "metadata": {},
   "source": [
    "#### Extracting Titles"
   ]
  },
  {
   "cell_type": "code",
   "execution_count": 5,
   "metadata": {
    "scrolled": true
   },
   "outputs": [
    {
     "name": "stdout",
     "output_type": "stream",
     "text": [
      "Mr              517\n",
      "Miss            182\n",
      "Mrs             125\n",
      "Master           40\n",
      "Dr                7\n",
      "Rev               6\n",
      "Major             2\n",
      "Mlle              2\n",
      "Col               2\n",
      "Capt              1\n",
      "the Countess      1\n",
      "Sir               1\n",
      "Don               1\n",
      "Ms                1\n",
      "Mme               1\n",
      "Jonkheer          1\n",
      "Lady              1\n",
      "Name: Title, dtype: int64\n"
     ]
    }
   ],
   "source": [
    "#Extracting titles from the name column\n",
    "trainSet['Title']=[re.sub('(.*, )|(\\\\..*)', '', x) for x in trainSet[\"Name\"]]\n",
    "testSet['Title']=[re.sub('(.*, )|(\\\\..*)', '', x) for x in testSet[\"Name\"]]\n",
    "\n",
    "#Displays unique titles\n",
    "uniqueTitles=trainSet['Title'].unique()\n",
    "#print('Titles:',uniqueTitles)\n",
    "\n",
    "#Extra Most repeated titles and rare titles\n",
    "count=trainSet['Title'].value_counts()\n",
    "print(count)\n",
    "repeated=count[count>=40]\n",
    "rare=count[count<40]\n",
    "repeatedTitles=repeated.index.tolist()\n",
    "rareTitles=rare.index.tolist()\n",
    "#print('RareTitles:',rareTitles)\n",
    "#print('Repeated',repeatedTitles)\n"
   ]
  },
  {
   "cell_type": "code",
   "execution_count": 6,
   "metadata": {},
   "outputs": [
    {
     "data": {
      "text/html": [
       "<div>\n",
       "<style scoped>\n",
       "    .dataframe tbody tr th:only-of-type {\n",
       "        vertical-align: middle;\n",
       "    }\n",
       "\n",
       "    .dataframe tbody tr th {\n",
       "        vertical-align: top;\n",
       "    }\n",
       "\n",
       "    .dataframe thead th {\n",
       "        text-align: right;\n",
       "    }\n",
       "</style>\n",
       "<table border=\"1\" class=\"dataframe\">\n",
       "  <thead>\n",
       "    <tr style=\"text-align: right;\">\n",
       "      <th></th>\n",
       "      <th>Sex</th>\n",
       "      <th>Mr</th>\n",
       "      <th>Mrs</th>\n",
       "      <th>Miss</th>\n",
       "      <th>Master</th>\n",
       "      <th>Don</th>\n",
       "      <th>Rev</th>\n",
       "      <th>Dr</th>\n",
       "      <th>Mme</th>\n",
       "      <th>Ms</th>\n",
       "      <th>Major</th>\n",
       "      <th>Lady</th>\n",
       "      <th>Sir</th>\n",
       "      <th>Mlle</th>\n",
       "      <th>Col</th>\n",
       "      <th>Capt</th>\n",
       "      <th>the Countess</th>\n",
       "      <th>Jonkheer</th>\n",
       "    </tr>\n",
       "  </thead>\n",
       "  <tbody>\n",
       "    <tr>\n",
       "      <th>0</th>\n",
       "      <td>male</td>\n",
       "      <td>517</td>\n",
       "      <td>182</td>\n",
       "      <td>125</td>\n",
       "      <td>40</td>\n",
       "      <td>7</td>\n",
       "      <td>6</td>\n",
       "      <td>2</td>\n",
       "      <td>2</td>\n",
       "      <td>2</td>\n",
       "      <td>1</td>\n",
       "      <td>1</td>\n",
       "      <td>1</td>\n",
       "      <td>1</td>\n",
       "      <td>1</td>\n",
       "      <td>1</td>\n",
       "      <td>1</td>\n",
       "      <td>1</td>\n",
       "    </tr>\n",
       "    <tr>\n",
       "      <th>1</th>\n",
       "      <td>female</td>\n",
       "      <td>517</td>\n",
       "      <td>182</td>\n",
       "      <td>125</td>\n",
       "      <td>40</td>\n",
       "      <td>7</td>\n",
       "      <td>6</td>\n",
       "      <td>2</td>\n",
       "      <td>2</td>\n",
       "      <td>2</td>\n",
       "      <td>1</td>\n",
       "      <td>1</td>\n",
       "      <td>1</td>\n",
       "      <td>1</td>\n",
       "      <td>1</td>\n",
       "      <td>1</td>\n",
       "      <td>1</td>\n",
       "      <td>1</td>\n",
       "    </tr>\n",
       "  </tbody>\n",
       "</table>\n",
       "</div>"
      ],
      "text/plain": [
       "      Sex   Mr  Mrs  Miss  Master  Don  Rev  Dr  Mme  Ms  Major  Lady  Sir  \\\n",
       "0    male  517  182   125      40    7    6   2    2   2      1     1    1   \n",
       "1  female  517  182   125      40    7    6   2    2   2      1     1    1   \n",
       "\n",
       "   Mlle  Col  Capt  the Countess  Jonkheer  \n",
       "0     1    1     1             1         1  \n",
       "1     1    1     1             1         1  "
      ]
     },
     "execution_count": 6,
     "metadata": {},
     "output_type": "execute_result"
    }
   ],
   "source": [
    "count.tolist()\n",
    "uniqueTitles.tolist()\n",
    "titles=dict(zip(uniqueTitles,count))\n",
    "sex=trainSet['Sex'].tolist()\n",
    "val=trainSet['Title'].tolist()\n",
    "gender=dict(zip(val,sex))\n",
    "table=pd.DataFrame({'Sex':['male','female']})\n",
    "x=0\n",
    "\n",
    "for i in uniqueTitles:\n",
    "    table[i[:]]=count[x]\n",
    "    x+=1\n",
    "table"
   ]
  },
  {
   "cell_type": "markdown",
   "metadata": {},
   "source": [
    "#### Replacing Titles"
   ]
  },
  {
   "cell_type": "code",
   "execution_count": 7,
   "metadata": {},
   "outputs": [
    {
     "data": {
      "text/plain": [
       "True"
      ]
     },
     "execution_count": 7,
     "metadata": {},
     "output_type": "execute_result"
    }
   ],
   "source": [
    "#Replacing titles \n",
    "trainSet.loc[trainSet.Title=='Mlle','Title']='Mlle'\n",
    "trainSet.loc[trainSet.Title=='Ms','Title']='Miss'\n",
    "trainSet.loc[trainSet.Title=='Mme','Title']='Mrs'\n",
    "trainSet.loc[trainSet.Title.isin(rareTitles),'Title']='Rare Title'\n",
    "\n",
    "testSet.loc[testSet.Title=='Mlle','Title']='Mlle'\n",
    "testSet.loc[testSet.Title=='Ms','Title']='Miss'\n",
    "testSet.loc[testSet.Title=='Mme','Title']='Mrs'\n",
    "testSet.loc[testSet.Title.isin(rareTitles),'Title']='Rare Title'\n",
    "\n",
    "#Checks whether values got updated\n",
    "'Rare Title' in trainSet['Title'].values\n",
    "#trainSet"
   ]
  },
  {
   "cell_type": "markdown",
   "metadata": {},
   "source": [
    "#### Extracting Surnames"
   ]
  },
  {
   "cell_type": "code",
   "execution_count": 8,
   "metadata": {},
   "outputs": [],
   "source": [
    "#Making column for surnames\n",
    "surname = trainSet[\"Name\"].str.split(\",\")\n",
    "trainSet[\"Surname\"] = [x[0] for x in surname]\n",
    "surname = testSet[\"Name\"].str.split(\",\")\n",
    "testSet[\"Surname\"] = [x[0] for x in surname]\n"
   ]
  },
  {
   "cell_type": "markdown",
   "metadata": {},
   "source": [
    "#### Family and Family Size\n"
   ]
  },
  {
   "cell_type": "code",
   "execution_count": 48,
   "metadata": {},
   "outputs": [
    {
     "data": {
      "image/png": "[encoded data removed]",
      "text/plain": [
       "<Figure size 432x216 with 2 Axes>"
      ]
     },
     "metadata": {
      "needs_background": "light"
     },
     "output_type": "display_data"
    }
   ],
   "source": [
    "#Family size\n",
    "trainSet['FamilySize'] = trainSet['SibSp'] + trainSet['Parch']+1\n",
    "testSet['FamilySize'] = testSet['SibSp'] + testSet['Parch']+1\n",
    "#trainSet\n",
    "with sns.color_palette(\"coolwarm\"):\n",
    "    g = sns.FacetGrid(trainSet, col='Survived')\n",
    "    g.map(plt.hist, 'FamilySize', bins=10)"
   ]
  },
  {
   "cell_type": "code",
   "execution_count": 10,
   "metadata": {},
   "outputs": [],
   "source": [
    "# Discretize family size\n",
    "trainSet['Family']=''\n",
    "trainSet.loc[trainSet.FamilySize==1,'Family']='singleton'\n",
    "trainSet.loc[(trainSet.FamilySize>1)&(trainSet.FamilySize<5),'Family']='small'\n",
    "trainSet.loc[(trainSet.FamilySize>4),'Family']='large'\n",
    "testSet['Family']=''\n",
    "testSet.loc[testSet.FamilySize==1,'Family']='singleton'\n",
    "testSet.loc[(testSet.FamilySize>1)&(testSet.FamilySize<5),'Family']='small'\n",
    "testSet.loc[(testSet.FamilySize>4),'Family']='large'\n",
    "#testSet\n"
   ]
  },
  {
   "cell_type": "markdown",
   "metadata": {},
   "source": [
    "#### Filling missing values"
   ]
  },
  {
   "cell_type": "code",
   "execution_count": 11,
   "metadata": {},
   "outputs": [],
   "source": [
    "#Filling missing values in fare column\n",
    "testSet['Age'].fillna(testSet[\"Fare\"].median(), inplace=True)"
   ]
  },
  {
   "cell_type": "code",
   "execution_count": 12,
   "metadata": {},
   "outputs": [],
   "source": [
    "#inserting missing values in embarked column\n",
    "trainSet[\"Embarked\"] = trainSet[\"Embarked\"].fillna('C')\n",
    "testSet[\"Embarked\"] = testSet[\"Embarked\"].fillna('C')\n"
   ]
  },
  {
   "cell_type": "code",
   "execution_count": 21,
   "metadata": {},
   "outputs": [
    {
     "data": {
      "text/plain": [
       "<seaborn.axisgrid.FacetGrid at 0xd54ec30>"
      ]
     },
     "execution_count": 21,
     "metadata": {},
     "output_type": "execute_result"
    },
    {
     "data": {
      "image/png": "[encoded data removed]",
      "text/plain": [
       "<Figure size 432x216 with 2 Axes>"
      ]
     },
     "metadata": {
      "needs_background": "light"
     },
     "output_type": "display_data"
    }
   ],
   "source": [
    "#Age imputing taken from here\n",
    "#https://campus.datacamp.com/courses/manipulating-dataframes-with-pandas/grouping-data?ex=11\n",
    "\n",
    "by_sex_class=trainSet.groupby(['Sex', 'Pclass'])\n",
    "by_sex=testSet.groupby(['Sex', 'Pclass'])\n",
    "\n",
    "def impute_median(series):\n",
    "    return series.fillna(series.median())\n",
    "trainSet['Age'] = by_sex_class['Age'].transform(impute_median)\n",
    "testSet['Age'] = by_sex['Age'].transform(impute_median)\n",
    "\n",
    "g = sns.FacetGrid(trainSet, col='Survived')\n",
    "g.map(plt.hist, 'Age', bins=20)"
   ]
  },
  {
   "cell_type": "markdown",
   "metadata": {},
   "source": [
    "#### Dropping Columns\n"
   ]
  },
  {
   "cell_type": "code",
   "execution_count": 14,
   "metadata": {},
   "outputs": [],
   "source": [
    "#Dropping columns\n",
    "trainSet = trainSet.drop(['PassengerId','Name','Ticket','Cabin','Surname'], axis=1)\n",
    "testSet = testSet.drop(['PassengerId','Name','Ticket','Cabin','Surname'], axis=1)"
   ]
  },
  {
   "cell_type": "markdown",
   "metadata": {},
   "source": [
    "#### Creating Columns Child and Mother"
   ]
  },
  {
   "cell_type": "code",
   "execution_count": 15,
   "metadata": {},
   "outputs": [],
   "source": [
    "#child column\n",
    "trainSet['Child']=''\n",
    "trainSet.loc[trainSet.Age>=18,'Child']='Adult'\n",
    "trainSet.loc[trainSet.Age<18,'Child']='Child'\n",
    "\n",
    "testSet['Child']=''\n",
    "testSet.loc[testSet.Age>=18,'Child']='Adult'\n",
    "testSet.loc[testSet.Age<18,'Child']='Child'\n",
    "\n",
    "#Mother column\n",
    "\n",
    "trainSet['Mother']='Not Mother'\n",
    "trainSet.loc[(trainSet[\"Sex\"] == 'female') & (trainSet[\"Parch\"] > 0) & (trainSet[\"Age\"] > 18) & (trainSet[\"Title\"] != 'Miss'),'Mother'] = 'Mother'\n",
    "\n",
    "testSet['Mother']='Not Mother'\n",
    "testSet.loc[(testSet[\"Sex\"] == 'female') & (testSet[\"Parch\"] > 0) & (testSet[\"Age\"] > 18) & (testSet[\"Title\"] != 'Miss'),'Mother'] = 'Mother'\n"
   ]
  },
  {
   "cell_type": "markdown",
   "metadata": {},
   "source": [
    "#### Checking again for missing data "
   ]
  },
  {
   "cell_type": "code",
   "execution_count": 16,
   "metadata": {},
   "outputs": [
    {
     "name": "stdout",
     "output_type": "stream",
     "text": [
      "<class 'pandas.core.frame.DataFrame'>\n",
      "RangeIndex: 891 entries, 0 to 890\n",
      "Data columns (total 13 columns):\n",
      "Survived      891 non-null int64\n",
      "Pclass        891 non-null int64\n",
      "Sex           891 non-null object\n",
      "Age           891 non-null float64\n",
      "SibSp         891 non-null int64\n",
      "Parch         891 non-null int64\n",
      "Fare          891 non-null float64\n",
      "Embarked      891 non-null object\n",
      "Title         891 non-null object\n",
      "FamilySize    891 non-null int64\n",
      "Family        891 non-null object\n",
      "Child         891 non-null object\n",
      "Mother        891 non-null object\n",
      "dtypes: float64(2), int64(5), object(6)\n",
      "memory usage: 69.6+ KB\n"
     ]
    }
   ],
   "source": [
    "#Checking if any more data is missing\n",
    "trainSet.info()"
   ]
  },
  {
   "cell_type": "code",
   "execution_count": 37,
   "metadata": {},
   "outputs": [],
   "source": [
    "encodeTestSet = pd.get_dummies(testSet)\n",
    "encodeTrainSet = pd.get_dummies(trainSet)\n",
    "Survive=encodeTrainSet.pop('Survived')\n",
    "\n",
    "#X_test=pd.get_dummies(testSet)\n",
    "#X_train=pd.get_dummies(trainSet)\n"
   ]
  },
  {
   "cell_type": "code",
   "execution_count": 38,
   "metadata": {},
   "outputs": [
    {
     "name": "stdout",
     "output_type": "stream",
     "text": [
      "On KNeighborsClassifier Accuracy is:  73.89830508474576 %\n",
      "On KNeighborsClassifier Precision is:  61.66666666666667 %\n",
      "On KNeighborsClassifier Recall is:  70.47619047619048 %\n",
      "On KNeighborsClassifier F_Measure is:  65.77777777777779 %\n"
     ]
    },
    {
     "name": "stderr",
     "output_type": "stream",
     "text": [
      "f:\\softwares\\python\\lib\\site-packages\\sklearn\\svm\\base.py:196: FutureWarning: The default value of gamma will change from 'auto' to 'scale' in version 0.22 to account better for unscaled features. Set gamma explicitly to 'auto' or 'scale' to avoid this warning.\n",
      "  \"avoid this warning.\", FutureWarning)\n",
      "f:\\softwares\\python\\lib\\site-packages\\sklearn\\metrics\\classification.py:1145: UndefinedMetricWarning: Recall is ill-defined and being set to 0.0 due to no true samples.\n",
      "  'recall', 'true', average, warn_for)\n",
      "f:\\softwares\\python\\lib\\site-packages\\sklearn\\metrics\\classification.py:1145: UndefinedMetricWarning: F-score is ill-defined and being set to 0.0 due to no true samples.\n",
      "  'recall', 'true', average, warn_for)\n",
      "f:\\softwares\\python\\lib\\site-packages\\sklearn\\svm\\base.py:196: FutureWarning: The default value of gamma will change from 'auto' to 'scale' in version 0.22 to account better for unscaled features. Set gamma explicitly to 'auto' or 'scale' to avoid this warning.\n",
      "  \"avoid this warning.\", FutureWarning)\n"
     ]
    },
    {
     "name": "stdout",
     "output_type": "stream",
     "text": [
      "On SVC Accuracy is:  59.32203389830508 %\n",
      "On SVC Precision is:  0.0 %\n",
      "On SVC Recall is:  0.0 %\n",
      "On SVC F_Measure is:  0.0 %\n",
      "On NuSVC Accuracy is:  76.94915254237287 %\n",
      "On NuSVC Precision is:  65.83333333333333 %\n",
      "On NuSVC Recall is:  74.52830188679245 %\n",
      "On NuSVC F_Measure is:  69.91150442477874 %\n",
      "On DecisionTreeClassifier Accuracy is:  75.2542372881356 %\n",
      "On DecisionTreeClassifier Precision is:  66.66666666666666 %\n",
      "On DecisionTreeClassifier Recall is:  70.79646017699115 %\n",
      "On DecisionTreeClassifier F_Measure is:  68.6695278969957 %\n"
     ]
    },
    {
     "name": "stderr",
     "output_type": "stream",
     "text": [
      "f:\\softwares\\python\\lib\\site-packages\\sklearn\\ensemble\\forest.py:248: FutureWarning: The default value of n_estimators will change from 10 in version 0.20 to 100 in 0.22.\n",
      "  \"10 in version 0.20 to 100 in 0.22.\", FutureWarning)\n",
      "f:\\softwares\\python\\lib\\site-packages\\sklearn\\linear_model\\logistic.py:432: FutureWarning: Default solver will be changed to 'lbfgs' in 0.22. Specify a solver to silence this warning.\n",
      "  FutureWarning)\n"
     ]
    },
    {
     "name": "stdout",
     "output_type": "stream",
     "text": [
      "On RandomForestClassifier Accuracy is:  79.66101694915254 %\n",
      "On RandomForestClassifier Precision is:  71.66666666666667 %\n",
      "On RandomForestClassifier Recall is:  76.78571428571429 %\n",
      "On RandomForestClassifier F_Measure is:  74.13793103448276 %\n",
      "On LogisticRegression Accuracy is:  83.38983050847457 %\n",
      "On LogisticRegression Precision is:  76.66666666666667 %\n",
      "On LogisticRegression Recall is:  81.41592920353983 %\n",
      "On LogisticRegression F_Measure is:  78.96995708154508 %\n",
      "On AdaBoostClassifier Accuracy is:  81.35593220338984 %\n",
      "On AdaBoostClassifier Precision is:  75.83333333333333 %\n",
      "On AdaBoostClassifier Recall is:  77.77777777777779 %\n",
      "On AdaBoostClassifier F_Measure is:  76.79324894514768 %\n",
      "On GradientBoostingClassifier Accuracy is:  82.71186440677965 %\n",
      "On GradientBoostingClassifier Precision is:  71.66666666666667 %\n",
      "On GradientBoostingClassifier Recall is:  83.49514563106796 %\n",
      "On GradientBoostingClassifier F_Measure is:  77.13004484304932 %\n",
      "On GaussianNB Accuracy is:  82.37288135593221 %\n",
      "On GaussianNB Precision is:  79.16666666666666 %\n",
      "On GaussianNB Recall is:  77.8688524590164 %\n",
      "On GaussianNB F_Measure is:  78.51239669421487 %\n",
      "On LinearDiscriminantAnalysis Accuracy is:  84.06779661016948 %\n",
      "On LinearDiscriminantAnalysis Precision is:  76.66666666666667 %\n",
      "On LinearDiscriminantAnalysis Recall is:  82.88288288288288 %\n",
      "On LinearDiscriminantAnalysis F_Measure is:  79.65367965367966 %\n",
      "On QuadraticDiscriminantAnalysis Accuracy is:  71.52542372881356 %\n",
      "On QuadraticDiscriminantAnalysis Precision is:  46.666666666666664 %\n",
      "On QuadraticDiscriminantAnalysis Recall is:  73.68421052631578 %\n",
      "On QuadraticDiscriminantAnalysis F_Measure is:  57.14285714285714 %\n"
     ]
    },
    {
     "name": "stderr",
     "output_type": "stream",
     "text": [
      "f:\\softwares\\python\\lib\\site-packages\\sklearn\\discriminant_analysis.py:388: UserWarning: Variables are collinear.\n",
      "  warnings.warn(\"Variables are collinear.\")\n",
      "f:\\softwares\\python\\lib\\site-packages\\sklearn\\discriminant_analysis.py:686: UserWarning: Variables are collinear\n",
      "  warnings.warn(\"Variables are collinear\")\n"
     ]
    }
   ],
   "source": [
    "#importing libraries for different classifiers\n",
    "from sklearn.ensemble import RandomForestClassifier\n",
    "from sklearn.metrics import accuracy_score, precision_score, f1_score, recall_score\n",
    "from sklearn.linear_model import LogisticRegression\n",
    "from sklearn.ensemble import RandomForestClassifier, AdaBoostClassifier, GradientBoostingClassifier\n",
    "from sklearn.model_selection import train_test_split\n",
    "from sklearn.tree import DecisionTreeClassifier\n",
    "from sklearn.naive_bayes import GaussianNB\n",
    "from sklearn.discriminant_analysis import LinearDiscriminantAnalysis\n",
    "from sklearn.discriminant_analysis import QuadraticDiscriminantAnalysis\n",
    "from sklearn.neighbors import KNeighborsClassifier\n",
    "from sklearn.svm import SVC, NuSVC\n",
    "\n",
    "\n",
    "X_train, X_test, y_train, y_test = train_test_split(\n",
    "    encodeTrainSet, Survive, test_size=0.33, random_state=42)\n",
    "\n",
    "\n",
    "\n",
    "classifiers = [\n",
    "    KNeighborsClassifier(3),\n",
    "    SVC(kernel=\"rbf\", C=0.025, probability=True),\n",
    "    NuSVC(probability=True),\n",
    "    DecisionTreeClassifier(),\n",
    "    RandomForestClassifier(),\n",
    "    LogisticRegression(),\n",
    "    AdaBoostClassifier(),\n",
    "    GradientBoostingClassifier(),\n",
    "    GaussianNB(),\n",
    "    LinearDiscriminantAnalysis(),\n",
    "    QuadraticDiscriminantAnalysis()\n",
    "    ]\n",
    "\n",
    "#result of classifiers in precision, accuracy, recall, fmeasure\n",
    "for clf in classifiers:\n",
    "    clf.fit(X_train, y_train)\n",
    "    Y_pred = clf.predict(X_test)\n",
    "    accuracy = accuracy_score(Y_pred, y_test)\n",
    "    precision = precision_score(Y_pred, y_test)\n",
    "    recall = recall_score(Y_pred, y_test)\n",
    "    f_measure = f1_score(Y_pred, y_test)\n",
    "    print('On',clf.__class__.__name__,'Accuracy is: ',accuracy*100,'%')\n",
    "    print('On',clf.__class__.__name__,'Precision is: ',precision*100,'%')\n",
    "    print('On',clf.__class__.__name__,'Recall is: ',recall*100,'%')\n",
    "    print('On',clf.__class__.__name__,'F_Measure is: ',f_measure*100,'%')\n"
   ]
  },
  {
   "cell_type": "code",
   "execution_count": 19,
   "metadata": {},
   "outputs": [
    {
     "data": {
      "text/plain": [
       "'\\nReferences:\\n\\nFor extracting titles:\\nhttps://stackoverflow.com/questions/38773379/simplest-python-equivalent-to-rs-gsub\\n\\nFor plots and some data manipulation:\\nhttps://towardsdatascience.com/predicting-the-survival-of-titanic-passengers-30870ccc7e8\\n\\nFor age imputing:\\nhttps://campus.datacamp.com/courses/manipulating-dataframes-with-pandas/grouping-data?ex=11\\n\\nNote:Most of the data manipulation techniques were learned in Datascience course so some techniques might be similar.\\n'"
      ]
     },
     "execution_count": 19,
     "metadata": {},
     "output_type": "execute_result"
    }
   ],
   "source": [
    "'''\n",
    "References:\n",
    "\n",
    "For extracting titles:\n",
    "https://stackoverflow.com/questions/38773379/simplest-python-equivalent-to-rs-gsub\n",
    "\n",
    "For plots and some data manipulation:\n",
    "https://towardsdatascience.com/predicting-the-survival-of-titanic-passengers-30870ccc7e8\n",
    "\n",
    "For age imputing:\n",
    "https://campus.datacamp.com/courses/manipulating-dataframes-with-pandas/grouping-data?ex=11\n",
    "\n",
    "Note:Most of the data manipulation techniques were learned in Datascience course so some techniques might be similar.\n",
    "'''\n",
    "\n"
   ]
  }
 ],
 "metadata": {
  "kernelspec": {
   "display_name": "Python 3",
   "language": "python",
   "name": "python3"
  },
  "language_info": {
   "codemirror_mode": {
    "name": "ipython",
    "version": 3
   },
   "file_extension": ".py",
   "mimetype": "text/x-python",
   "name": "python",
   "nbconvert_exporter": "python",
   "pygments_lexer": "ipython3",
   "version": "3.6.4"
  }
 },
 "nbformat": 4,
 "nbformat_minor": 2
}
